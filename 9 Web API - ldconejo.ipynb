{
 "cells": [
  {
   "cell_type": "markdown",
   "metadata": {},
   "source": [
    "# Web APIs\n",
    "\n",
    "## 1. Consuming Web APIs\n",
    "\n",
    "(Partially adapted from https://www.dataquest.io/blog/python-api-tutorial/)\n",
    "\n",
    "* https://randomuser.me/ is a random user generator \n",
    "*\tIt has an API. Go to https://api.randomuser.me/ with your browser\n",
    "*\tYou get a JSON (JavaScript Object Notation) back. A JSON is similar to a Python dictionary.  \n",
    "*  Refresh the browser\n",
    "*\tYou can add query parameters. They are added to the URL with a ? . You then add then the parameter name = the value. More the one parameter are connected with a & e.g.\n",
    "\thttp://api.open-notify.org/iss-pass.json?lat=37.78&lon=-122.41\n",
    "\n",
    "*\t Go the documentation https://randomuser.me/documentation and check how you can get multiple users and to specify constraints on the output\n",
    "*\tGo to your browser and add parameters to https://api.randomuser.me/ so that you get 5 results of only males from the US\n",
    "\n",
    "Enter the URL of your solution:"
   ]
  },
  {
   "cell_type": "code",
   "execution_count": 2,
   "metadata": {
    "collapsed": true
   },
   "outputs": [],
   "source": [
    "# TODO: get 5 results of only males from the US\n",
    "# Enter the URL of your solution:\n",
    "url = \"https://api.randomuser.me/?results=5&gender=male&nat=US\""
   ]
  },
  {
   "cell_type": "markdown",
   "metadata": {},
   "source": [
    "* You can also get the data from the command line. Open the command line and write\n",
    "\n",
    "```bash\n",
    "curl -s https://api.randomuser.me/\n",
    "```\n",
    "\n",
    "You can also run Bash commands directly in your Jupyter Notebook with !:"
   ]
  },
  {
   "cell_type": "code",
   "execution_count": 4,
   "metadata": {
    "collapsed": true
   },
   "outputs": [
    {
     "name": "stdout",
     "output_type": "stream",
     "text": [
      "{\"results\":[{\"gender\":\"male\",\"name\":{\"title\":\"mr\",\"first\":\"landon\",\"last\":\"cox\"},\"location\":{\"street\":\"5804 spring st\",\"city\":\"concord\",\"state\":\"hawaii\",\"postcode\":45386,\"coordinates\":{\"latitude\":\"-42.8096\",\"longitude\":\"34.5029\"},\"timezone\":{\"offset\":\"+3:00\",\"description\":\"Baghdad, Riyadh, Moscow, St. Petersburg\"}},\"email\":\"landon.cox@example.com\",\"login\":{\"uuid\":\"289c3365-38b9-4afa-8b1e-a62c6ae58d20\",\"username\":\"redbird926\",\"password\":\"dipper\",\"salt\":\"xmIUKN9M\",\"md5\":\"94f4be914f2d7a0c59f6e6551a24d841\",\"sha1\":\"20df9faf30282fa53928962a0183b81e232d1a99\",\"sha256\":\"4a4e5f0d35efe72d83a19e8703da6aca307e315bf497489f3c97ee86acb193b9\"},\"dob\":{\"date\":\"1978-12-13T22:16:40Z\",\"age\":40},\"registered\":{\"date\":\"2008-11-30T18:29:56Z\",\"age\":10},\"phone\":\"(846)-835-8106\",\"cell\":\"(171)-974-7946\",\"id\":{\"name\":\"SSN\",\"value\":\"426-49-5069\"},\"picture\":{\"large\":\"https://randomuser.me/api/portraits/men/15.jpg\",\"medium\":\"https://randomuser.me/api/portraits/med/men/15.jpg\",\"thumbnail\":\"https://randomuser.me/api/portraits/thumb/men/15.jpg\"},\"nat\":\"US\"},{\"gender\":\"male\",\"name\":{\"title\":\"mr\",\"first\":\"antonio\",\"last\":\"horton\"},\"location\":{\"street\":\"8487 james st\",\"city\":\"las vegas\",\"state\":\"colorado\",\"postcode\":94045,\"coordinates\":{\"latitude\":\"24.6350\",\"longitude\":\"-116.9002\"},\"timezone\":{\"offset\":\"+1:00\",\"description\":\"Brussels, Copenhagen, Madrid, Paris\"}},\"email\":\"antonio.horton@example.com\",\"login\":{\"uuid\":\"b2fc6ce7-a73a-47e8-9bf1-067d671e49d7\",\"username\":\"ticklishcat668\",\"password\":\"christma\",\"salt\":\"rL2Bn3nz\",\"md5\":\"3f50a7589336bb56bd8103f9ae5413bc\",\"sha1\":\"96927283270d68f18fbec1faa36db908005ca1e1\",\"sha256\":\"22402ff269efa3424a423dba506359b0cd9a883b4864456bde626e346d568406\"},\"dob\":{\"date\":\"1961-07-05T07:22:24Z\",\"age\":57},\"registered\":{\"date\":\"2005-02-03T08:31:18Z\",\"age\":14},\"phone\":\"(930)-881-4134\",\"cell\":\"(471)-363-9846\",\"id\":{\"name\":\"SSN\",\"value\":\"287-94-4066\"},\"picture\":{\"large\":\"https://randomuser.me/api/portraits/men/45.jpg\",\"medium\":\"https://randomuser.me/api/portraits/med/men/45.jpg\",\"thumbnail\":\"https://randomuser.me/api/portraits/thumb/men/45.jpg\"},\"nat\":\"US\"},{\"gender\":\"male\",\"name\":{\"title\":\"mr\",\"first\":\"clifford\",\"last\":\"bennett\"},\"location\":{\"street\":\"4436 mcgowen st\",\"city\":\"moreno valley\",\"state\":\"florida\",\"postcode\":19106,\"coordinates\":{\"latitude\":\"-50.2140\",\"longitude\":\"139.2262\"},\"timezone\":{\"offset\":\"-6:00\",\"description\":\"Central Time (US & Canada), Mexico City\"}},\"email\":\"clifford.bennett@example.com\",\"login\":{\"uuid\":\"363d2a52-7f50-4dd3-b367-7c2495ed7b4e\",\"username\":\"angrybird906\",\"password\":\"interest\",\"salt\":\"qzb8MCSQ\",\"md5\":\"55a5040c0139b13370abe1f0f2d8c000\",\"sha1\":\"679de63249e5b6bce6c812d7736faa62fbd42d57\",\"sha256\":\"82028e2253e986159fecfbcda488d805bd43b119b6084c5d700558ce270d8bab\"},\"dob\":{\"date\":\"1973-01-24T00:26:12Z\",\"age\":46},\"registered\":{\"date\":\"2012-04-26T15:46:57Z\",\"age\":7},\"phone\":\"(030)-161-5700\",\"cell\":\"(785)-232-4072\",\"id\":{\"name\":\"SSN\",\"value\":\"206-15-0456\"},\"picture\":{\"large\":\"https://randomuser.me/api/portraits/men/11.jpg\",\"medium\":\"https://randomuser.me/api/portraits/med/men/11.jpg\",\"thumbnail\":\"https://randomuser.me/api/portraits/thumb/men/11.jpg\"},\"nat\":\"US\"},{\"gender\":\"male\",\"name\":{\"title\":\"mr\",\"first\":\"ron\",\"last\":\"graham\"},\"location\":{\"street\":\"6871 pockrus page rd\",\"city\":\"nashville\",\"state\":\"connecticut\",\"postcode\":54453,\"coordinates\":{\"latitude\":\"48.3895\",\"longitude\":\"164.2311\"},\"timezone\":{\"offset\":\"0:00\",\"description\":\"Western Europe Time, London, Lisbon, Casablanca\"}},\"email\":\"ron.graham@example.com\",\"login\":{\"uuid\":\"771aa620-3779-4214-a0f9-7bb701e89115\",\"username\":\"beautifulrabbit765\",\"password\":\"just4fun\",\"salt\":\"o3SJgeC1\",\"md5\":\"873edbfffaaa4fc83d6646dbf98c9d90\",\"sha1\":\"7dadf35628df049dfecf99724bdc348d79e97b43\",\"sha256\":\"4a72e9aeb877aedc26dc363a44bda4a628e1fa87b07ad99a2dbc40c3d8ae2202\"},\"dob\":{\"date\":\"1967-11-17T20:45:35Z\",\"age\":51},\"registered\":{\"date\":\"2004-12-06T00:24:34Z\",\"age\":14},\"phone\":\"(416)-530-9818\",\"cell\":\"(754)-703-9766\",\"id\":{\"name\":\"SSN\",\"value\":\"862-46-3845\"},\"picture\":{\"large\":\"https://randomuser.me/api/portraits/men/80.jpg\",\"medium\":\"https://randomuser.me/api/portraits/med/men/80.jpg\",\"thumbnail\":\"https://randomuser.me/api/portraits/thumb/men/80.jpg\"},\"nat\":\"US\"},{\"gender\":\"male\",\"name\":{\"title\":\"mr\",\"first\":\"jessie\",\"last\":\"armstrong\"},\"location\":{\"street\":\"8977 w gray st\",\"city\":\"boston\",\"state\":\"oklahoma\",\"postcode\":61480,\"coordinates\":{\"latitude\":\"-74.7731\",\"longitude\":\"-127.0301\"},\"timezone\":{\"offset\":\"+3:00\",\"description\":\"Baghdad, Riyadh, Moscow, St. Petersburg\"}},\"email\":\"jessie.armstrong@example.com\",\"login\":{\"uuid\":\"929c01cd-8344-470c-840a-28179b1d56aa\",\"username\":\"lazyladybug500\",\"password\":\"duane\",\"salt\":\"iouC1Ctv\",\"md5\":\"0a7de29db0251672a7f9e7080be5de94\",\"sha1\":\"18a5d2aeac0d74335fd6444e31befb3cbee99221\",\"sha256\":\"5c1be5774554e21f1ec5c0d0b3ddd186a26dbc013d1a1da016e2d4375744f979\"},\"dob\":{\"date\":\"1953-12-09T12:34:53Z\",\"age\":65},\"registered\":{\"date\":\"2015-05-18T04:12:18Z\",\"age\":3},\"phone\":\"(622)-556-5612\",\"cell\":\"(199)-035-7582\",\"id\":{\"name\":\"SSN\",\"value\":\"540-79-2978\"},\"picture\":{\"large\":\"https://randomuser.me/api/portraits/men/63.jpg\",\"medium\":\"https://randomuser.me/api/portraits/med/men/63.jpg\",\"thumbnail\":\"https://randomuser.me/api/portraits/thumb/men/63.jpg\"},\"nat\":\"US\"}],\"info\":{\"seed\":\"ce2f46d2598eb105\",\"results\":5,\"page\":1,\"version\":\"1.2\"}}\n"
     ]
    }
   ],
   "source": [
    "!curl -s \"https://api.randomuser.me/?results=5&gender=male&nat=US\""
   ]
  },
  {
   "cell_type": "markdown",
   "metadata": {},
   "source": [
    "* Import the two libraries \n",
    "    * `requests` and \n",
    "    * `json`. \n",
    "\n",
    "You can find the documentation for the requests package here:\n",
    " http://www.python-requests.org/en/latest/ \n",
    " "
   ]
  },
  {
   "cell_type": "code",
   "execution_count": 6,
   "metadata": {
    "collapsed": true
   },
   "outputs": [],
   "source": [
    "# TODO\n",
    "import requests\n",
    "import json"
   ]
  },
  {
   "cell_type": "markdown",
   "metadata": {},
   "source": [
    "* With the requests package you can call a Web API with the URL and the method get"
   ]
  },
  {
   "cell_type": "code",
   "execution_count": 11,
   "metadata": {
    "collapsed": true
   },
   "outputs": [],
   "source": [
    "response = requests.get(\"https://api.randomuser.me/\")"
   ]
  },
  {
   "cell_type": "markdown",
   "metadata": {},
   "source": [
    "* Print the status code of the request"
   ]
  },
  {
   "cell_type": "code",
   "execution_count": 10,
   "metadata": {
    "collapsed": true
   },
   "outputs": [
    {
     "name": "stdout",
     "output_type": "stream",
     "text": [
      "200\n"
     ]
    }
   ],
   "source": [
    "print(response.status_code)"
   ]
  },
  {
   "cell_type": "markdown",
   "metadata": {},
   "source": [
    "**The meaning of the status codes are:**\n",
    "* 200: everything went okay, and the result has been returned (if any)\n",
    "* 301: the server is redirecting you to a different endpoint. This can happen when a company switches domain names, or an endpoint name is changed.\n",
    "* 401: the server thinks you're not authenticated. This happens when you don't send the right credentials to access an API.\n",
    "* 400: the server thinks you made a bad request. This can happen when you don't send along the right data, among other things.\n",
    "* 403: the resource you're trying to access is forbidden – you don't have the right permissions to see it.\n",
    "* 404: the resource you tried to access wasn't found on the server.\n"
   ]
  },
  {
   "cell_type": "markdown",
   "metadata": {},
   "source": [
    "You can specify the query parameters for a URL with a Python dictionary like this:\n",
    "```python\n",
    "parameters = {\"lat\": 37.78, \"lon\": -122.41}\n",
    "```\n",
    "\n",
    "And pass the parameter to the request like this\n",
    "```python\n",
    "response = requests.get(\"http://api.open-notify.org/iss-pass.json\", params=parameters)\n",
    "```\n",
    "This is the same as \n",
    "```python\n",
    "response = requests.get(\"http://api.open-notify.org/iss-pass.json?lat=37.78&lon=-122.41\")\n",
    "```\n",
    "\n",
    "Alternatively you could build also the URL with the parameters by yourself with string concatenation. \n",
    "\n",
    "* Get with the request method 10 results of only males from the US.\n",
    "\n"
   ]
  },
  {
   "cell_type": "code",
   "execution_count": 12,
   "metadata": {
    "collapsed": true
   },
   "outputs": [],
   "source": [
    "# TODO: Get with the request method 10 results of only males from the US.\n",
    "parameters = {\"results\": 10, \"gender\": \"male\", \"nat\":\"US\"}\n",
    "\n",
    "response = requests.get(\"https://api.randomuser.me/\", params=parameters)"
   ]
  },
  {
   "cell_type": "markdown",
   "metadata": {},
   "source": [
    "* You can show the result of the request with the method text"
   ]
  },
  {
   "cell_type": "code",
   "execution_count": 13,
   "metadata": {
    "collapsed": true,
    "scrolled": true
   },
   "outputs": [
    {
     "data": {
      "text/plain": [
       "'{\"results\":[{\"gender\":\"male\",\"name\":{\"title\":\"mr\",\"first\":\"eddie\",\"last\":\"watts\"},\"location\":{\"street\":\"6730 lakeview st\",\"city\":\"hollywood\",\"state\":\"mississippi\",\"postcode\":72014,\"coordinates\":{\"latitude\":\"16.3765\",\"longitude\":\"-77.9514\"},\"timezone\":{\"offset\":\"-3:30\",\"description\":\"Newfoundland\"}},\"email\":\"eddie.watts@example.com\",\"login\":{\"uuid\":\"f5a767b0-2e4a-48b8-9ccc-c08b4498acda\",\"username\":\"smallpeacock825\",\"password\":\"maria\",\"salt\":\"bk4rOGTH\",\"md5\":\"5a842a8510a8baa50077d1484dd128c2\",\"sha1\":\"710a3f6ba612a46f4517f0b63fd338ec292d501f\",\"sha256\":\"c26a616eac5d14f14fa5a3d9b008876227d8f4af75247492f82010d5dc8d80e8\"},\"dob\":{\"date\":\"1985-06-21T18:28:09Z\",\"age\":33},\"registered\":{\"date\":\"2002-04-18T07:58:36Z\",\"age\":17},\"phone\":\"(722)-556-7869\",\"cell\":\"(290)-537-9052\",\"id\":{\"name\":\"SSN\",\"value\":\"314-66-1593\"},\"picture\":{\"large\":\"https://randomuser.me/api/portraits/men/55.jpg\",\"medium\":\"https://randomuser.me/api/portraits/med/men/55.jpg\",\"thumbnail\":\"https://randomuser.me/api/portraits/thumb/men/55.jpg\"},\"nat\":\"US\"},{\"gender\":\"male\",\"name\":{\"title\":\"mr\",\"first\":\"reginald\",\"last\":\"gonzales\"},\"location\":{\"street\":\"5423 northaven rd\",\"city\":\"pompano beach\",\"state\":\"vermont\",\"postcode\":35363,\"coordinates\":{\"latitude\":\"81.7310\",\"longitude\":\"-86.6768\"},\"timezone\":{\"offset\":\"-3:00\",\"description\":\"Brazil, Buenos Aires, Georgetown\"}},\"email\":\"reginald.gonzales@example.com\",\"login\":{\"uuid\":\"f095cf09-3526-4ab3-8f5e-c5588be49f9f\",\"username\":\"redkoala247\",\"password\":\"boobies\",\"salt\":\"L0I73nSF\",\"md5\":\"de413dae95e5614fc4814963a0dccb7b\",\"sha1\":\"35f7029b188be273f99fcc39e2d7f3f004e00839\",\"sha256\":\"70a86bf12a855b1e07b8bf279c7294f09eed8dad17d0f468f1bb061ac6f02635\"},\"dob\":{\"date\":\"1948-07-29T17:40:42Z\",\"age\":70},\"registered\":{\"date\":\"2014-01-21T13:07:51Z\",\"age\":5},\"phone\":\"(668)-034-2751\",\"cell\":\"(101)-214-9473\",\"id\":{\"name\":\"SSN\",\"value\":\"688-25-2790\"},\"picture\":{\"large\":\"https://randomuser.me/api/portraits/men/72.jpg\",\"medium\":\"https://randomuser.me/api/portraits/med/men/72.jpg\",\"thumbnail\":\"https://randomuser.me/api/portraits/thumb/men/72.jpg\"},\"nat\":\"US\"},{\"gender\":\"male\",\"name\":{\"title\":\"mr\",\"first\":\"sebastian\",\"last\":\"turner\"},\"location\":{\"street\":\"3707 lovers ln\",\"city\":\"edgewood\",\"state\":\"michigan\",\"postcode\":20344,\"coordinates\":{\"latitude\":\"67.5700\",\"longitude\":\"-101.4542\"},\"timezone\":{\"offset\":\"+1:00\",\"description\":\"Brussels, Copenhagen, Madrid, Paris\"}},\"email\":\"sebastian.turner@example.com\",\"login\":{\"uuid\":\"b82b721b-b99d-4166-bb81-111417f7b5ad\",\"username\":\"ticklishkoala825\",\"password\":\"1981\",\"salt\":\"yZtlONUf\",\"md5\":\"c152184a22cc5e9c918dd455697dc509\",\"sha1\":\"0e33e0b9deecd837b4eaf6070b8f3045fd3c56be\",\"sha256\":\"b7a4260b99dd2eb94925bbb38a1e5f7297e829c3fd8507884b388ceb4fa9979b\"},\"dob\":{\"date\":\"1962-08-23T09:46:54Z\",\"age\":56},\"registered\":{\"date\":\"2002-12-13T20:30:37Z\",\"age\":16},\"phone\":\"(935)-945-1205\",\"cell\":\"(916)-389-7926\",\"id\":{\"name\":\"SSN\",\"value\":\"191-22-0920\"},\"picture\":{\"large\":\"https://randomuser.me/api/portraits/men/60.jpg\",\"medium\":\"https://randomuser.me/api/portraits/med/men/60.jpg\",\"thumbnail\":\"https://randomuser.me/api/portraits/thumb/men/60.jpg\"},\"nat\":\"US\"},{\"gender\":\"male\",\"name\":{\"title\":\"mr\",\"first\":\"evan\",\"last\":\"turner\"},\"location\":{\"street\":\"5320 e center st\",\"city\":\"chicago\",\"state\":\"tennessee\",\"postcode\":85777,\"coordinates\":{\"latitude\":\"65.0881\",\"longitude\":\"-77.5127\"},\"timezone\":{\"offset\":\"-5:00\",\"description\":\"Eastern Time (US & Canada), Bogota, Lima\"}},\"email\":\"evan.turner@example.com\",\"login\":{\"uuid\":\"94bf01de-7574-4616-952a-ab10d7c509e5\",\"username\":\"yellowmeercat680\",\"password\":\"corinne\",\"salt\":\"fNGln8Gd\",\"md5\":\"dd1e4258471c0e65e0a751d620746862\",\"sha1\":\"774a6b50b2b1cf725ce278384b4dfbc3941000eb\",\"sha256\":\"faf88dd687c8326ddac7a9c37e8467985374a2d82cba2ce014d38b99fddd38cf\"},\"dob\":{\"date\":\"1976-10-13T14:11:05Z\",\"age\":42},\"registered\":{\"date\":\"2008-03-19T19:00:38Z\",\"age\":11},\"phone\":\"(674)-990-2058\",\"cell\":\"(265)-795-7959\",\"id\":{\"name\":\"SSN\",\"value\":\"566-22-7698\"},\"picture\":{\"large\":\"https://randomuser.me/api/portraits/men/77.jpg\",\"medium\":\"https://randomuser.me/api/portraits/med/men/77.jpg\",\"thumbnail\":\"https://randomuser.me/api/portraits/thumb/men/77.jpg\"},\"nat\":\"US\"},{\"gender\":\"male\",\"name\":{\"title\":\"mr\",\"first\":\"clifton\",\"last\":\"turner\"},\"location\":{\"street\":\"8750 dogwood ave\",\"city\":\"tyler\",\"state\":\"north dakota\",\"postcode\":55539,\"coordinates\":{\"latitude\":\"13.0370\",\"longitude\":\"164.6619\"},\"timezone\":{\"offset\":\"+4:30\",\"description\":\"Kabul\"}},\"email\":\"clifton.turner@example.com\",\"login\":{\"uuid\":\"682318f2-94ee-4bf3-a2e2-430f40f5e382\",\"username\":\"redsnake911\",\"password\":\"mental\",\"salt\":\"mIyIeB2k\",\"md5\":\"ebbd635e037f599ba557b71208b01fe8\",\"sha1\":\"537b2de4de5db6023ce42d2e4e32a2f35c14547e\",\"sha256\":\"ed8256f431a880a6f3dd5949ec42f7fb0011d2fb69c71b678214e8969e04ec37\"},\"dob\":{\"date\":\"1946-07-02T07:17:25Z\",\"age\":72},\"registered\":{\"date\":\"2016-07-28T22:00:26Z\",\"age\":2},\"phone\":\"(975)-890-6383\",\"cell\":\"(083)-634-0923\",\"id\":{\"name\":\"SSN\",\"value\":\"487-54-0854\"},\"picture\":{\"large\":\"https://randomuser.me/api/portraits/men/13.jpg\",\"medium\":\"https://randomuser.me/api/portraits/med/men/13.jpg\",\"thumbnail\":\"https://randomuser.me/api/portraits/thumb/men/13.jpg\"},\"nat\":\"US\"},{\"gender\":\"male\",\"name\":{\"title\":\"mr\",\"first\":\"greg\",\"last\":\"bell\"},\"location\":{\"street\":\"9998 bollinger rd\",\"city\":\"honolulu\",\"state\":\"ohio\",\"postcode\":22669,\"coordinates\":{\"latitude\":\"-59.3656\",\"longitude\":\"117.3284\"},\"timezone\":{\"offset\":\"+7:00\",\"description\":\"Bangkok, Hanoi, Jakarta\"}},\"email\":\"greg.bell@example.com\",\"login\":{\"uuid\":\"d1a823f8-04f9-4a95-89b6-fe1318e399cf\",\"username\":\"greensnake390\",\"password\":\"bigboobs\",\"salt\":\"9JzKGlYK\",\"md5\":\"2547b28c01b5ef75cc36a23ead791fac\",\"sha1\":\"349bf040285674dc48ef0ef365964c8ad8b262b0\",\"sha256\":\"b73948d89751e7766a130ebe621b2fefe266b323bf0b0db5435d2a4b56120c5b\"},\"dob\":{\"date\":\"1967-03-18T11:30:18Z\",\"age\":52},\"registered\":{\"date\":\"2002-10-23T01:24:31Z\",\"age\":16},\"phone\":\"(534)-414-8321\",\"cell\":\"(053)-937-6031\",\"id\":{\"name\":\"SSN\",\"value\":\"618-16-1540\"},\"picture\":{\"large\":\"https://randomuser.me/api/portraits/men/12.jpg\",\"medium\":\"https://randomuser.me/api/portraits/med/men/12.jpg\",\"thumbnail\":\"https://randomuser.me/api/portraits/thumb/men/12.jpg\"},\"nat\":\"US\"},{\"gender\":\"male\",\"name\":{\"title\":\"mr\",\"first\":\"jared\",\"last\":\"miller\"},\"location\":{\"street\":\"4568 w gray st\",\"city\":\"scurry\",\"state\":\"north dakota\",\"postcode\":36339,\"coordinates\":{\"latitude\":\"2.1810\",\"longitude\":\"87.3966\"},\"timezone\":{\"offset\":\"+2:00\",\"description\":\"Kaliningrad, South Africa\"}},\"email\":\"jared.miller@example.com\",\"login\":{\"uuid\":\"e8e99a44-caed-4d2e-ad2e-a8386817d29a\",\"username\":\"crazyduck158\",\"password\":\"redwings\",\"salt\":\"FZX94wi1\",\"md5\":\"3fbee398cc8b9012ea403c2360728e85\",\"sha1\":\"27493b2e9956ca86231c3182dc13ec1a11696c94\",\"sha256\":\"107755c8daab60259c143923bd06c60bc1cd06bb6f8c69b57b08dfd9532ceab7\"},\"dob\":{\"date\":\"1989-07-03T21:21:54Z\",\"age\":29},\"registered\":{\"date\":\"2008-10-31T04:42:07Z\",\"age\":10},\"phone\":\"(619)-920-2299\",\"cell\":\"(885)-049-2305\",\"id\":{\"name\":\"SSN\",\"value\":\"111-05-1367\"},\"picture\":{\"large\":\"https://randomuser.me/api/portraits/men/71.jpg\",\"medium\":\"https://randomuser.me/api/portraits/med/men/71.jpg\",\"thumbnail\":\"https://randomuser.me/api/portraits/thumb/men/71.jpg\"},\"nat\":\"US\"},{\"gender\":\"male\",\"name\":{\"title\":\"mr\",\"first\":\"hunter\",\"last\":\"williamson\"},\"location\":{\"street\":\"6862 country club rd\",\"city\":\"wichita falls\",\"state\":\"idaho\",\"postcode\":95935,\"coordinates\":{\"latitude\":\"58.4902\",\"longitude\":\"144.6174\"},\"timezone\":{\"offset\":\"-7:00\",\"description\":\"Mountain Time (US & Canada)\"}},\"email\":\"hunter.williamson@example.com\",\"login\":{\"uuid\":\"0e2fc8ef-1a4c-450c-9947-0f446ec870d9\",\"username\":\"beautifulzebra163\",\"password\":\"leonardo\",\"salt\":\"v53lMDI6\",\"md5\":\"7d5228821cc8118291bbc498da77f61d\",\"sha1\":\"cb3012a9533598412714b1c02805906f37440018\",\"sha256\":\"0fd211457792eee08e86bbd470b5b8887b80c18a0f1b10d9a08c70df44edd71d\"},\"dob\":{\"date\":\"1969-02-23T04:34:06Z\",\"age\":50},\"registered\":{\"date\":\"2014-02-25T17:38:40Z\",\"age\":5},\"phone\":\"(661)-129-3347\",\"cell\":\"(890)-350-8052\",\"id\":{\"name\":\"SSN\",\"value\":\"161-91-1463\"},\"picture\":{\"large\":\"https://randomuser.me/api/portraits/men/96.jpg\",\"medium\":\"https://randomuser.me/api/portraits/med/men/96.jpg\",\"thumbnail\":\"https://randomuser.me/api/portraits/thumb/men/96.jpg\"},\"nat\":\"US\"},{\"gender\":\"male\",\"name\":{\"title\":\"mr\",\"first\":\"willard\",\"last\":\"taylor\"},\"location\":{\"street\":\"4153 walnut hill ln\",\"city\":\"cape coral\",\"state\":\"massachusetts\",\"postcode\":91130,\"coordinates\":{\"latitude\":\"-17.6346\",\"longitude\":\"68.7009\"},\"timezone\":{\"offset\":\"+4:30\",\"description\":\"Kabul\"}},\"email\":\"willard.taylor@example.com\",\"login\":{\"uuid\":\"60cf06a2-f969-482d-925d-5602867726d6\",\"username\":\"purpletiger223\",\"password\":\"rockon\",\"salt\":\"p0XJFxIb\",\"md5\":\"99647afe6d98d71d4cb42ce7b489e694\",\"sha1\":\"2c8f56d11692cdfaba881d9e7087a6a0907ccc76\",\"sha256\":\"404d1ed40f17f4c28998cb6dffd61c3e9ac26b4f890fca7baad279dafd580e82\"},\"dob\":{\"date\":\"1949-08-05T08:19:28Z\",\"age\":69},\"registered\":{\"date\":\"2005-01-31T23:18:33Z\",\"age\":14},\"phone\":\"(487)-778-5197\",\"cell\":\"(122)-222-6791\",\"id\":{\"name\":\"SSN\",\"value\":\"259-16-5090\"},\"picture\":{\"large\":\"https://randomuser.me/api/portraits/men/12.jpg\",\"medium\":\"https://randomuser.me/api/portraits/med/men/12.jpg\",\"thumbnail\":\"https://randomuser.me/api/portraits/thumb/men/12.jpg\"},\"nat\":\"US\"},{\"gender\":\"male\",\"name\":{\"title\":\"mr\",\"first\":\"dave\",\"last\":\"perry\"},\"location\":{\"street\":\"2204 valley view ln\",\"city\":\"pompano beach\",\"state\":\"minnesota\",\"postcode\":87246,\"coordinates\":{\"latitude\":\"-41.9567\",\"longitude\":\"-117.4286\"},\"timezone\":{\"offset\":\"+3:00\",\"description\":\"Baghdad, Riyadh, Moscow, St. Petersburg\"}},\"email\":\"dave.perry@example.com\",\"login\":{\"uuid\":\"095f5ca0-52a2-4e2b-a970-27987eda48dc\",\"username\":\"greenduck532\",\"password\":\"jamaica\",\"salt\":\"1tMKtDPh\",\"md5\":\"3a3aa19d6c1d0716695eba3bd58e0389\",\"sha1\":\"620e2ea9f8d952b96b3d74a45fe2dc24f019587d\",\"sha256\":\"5e0b7937fe8beff7363cd000b4ac233b0197d9cf0fbe8d7b192bb94765b170f6\"},\"dob\":{\"date\":\"1951-02-16T09:57:51Z\",\"age\":68},\"registered\":{\"date\":\"2012-06-14T12:51:56Z\",\"age\":6},\"phone\":\"(192)-250-3842\",\"cell\":\"(209)-925-3514\",\"id\":{\"name\":\"SSN\",\"value\":\"419-40-6663\"},\"picture\":{\"large\":\"https://randomuser.me/api/portraits/men/33.jpg\",\"medium\":\"https://randomuser.me/api/portraits/med/men/33.jpg\",\"thumbnail\":\"https://randomuser.me/api/portraits/thumb/men/33.jpg\"},\"nat\":\"US\"}],\"info\":{\"seed\":\"fd031dd598fcbc71\",\"results\":10,\"page\":1,\"version\":\"1.2\"}}'"
      ]
     },
     "execution_count": 13,
     "metadata": {},
     "output_type": "execute_result"
    }
   ],
   "source": [
    "response.text"
   ]
  },
  {
   "cell_type": "markdown",
   "metadata": {},
   "source": [
    "* You can convert the data from JSON to a Python dictionary with the package JSON"
   ]
  },
  {
   "cell_type": "code",
   "execution_count": 14,
   "metadata": {
    "collapsed": true
   },
   "outputs": [],
   "source": [
    "data = json.loads(response.text)"
   ]
  },
  {
   "cell_type": "markdown",
   "metadata": {},
   "source": [
    "* Check the type of variable data"
   ]
  },
  {
   "cell_type": "code",
   "execution_count": 15,
   "metadata": {
    "collapsed": true
   },
   "outputs": [
    {
     "data": {
      "text/plain": [
       "dict"
      ]
     },
     "execution_count": 15,
     "metadata": {},
     "output_type": "execute_result"
    }
   ],
   "source": [
    "# TODO\n",
    "type(data)"
   ]
  },
  {
   "cell_type": "code",
   "execution_count": 16,
   "metadata": {
    "collapsed": true
   },
   "outputs": [
    {
     "name": "stdout",
     "output_type": "stream",
     "text": [
      "{'results': [{'gender': 'male', 'name': {'title': 'mr', 'first': 'eddie', 'last': 'watts'}, 'location': {'street': '6730 lakeview st', 'city': 'hollywood', 'state': 'mississippi', 'postcode': 72014, 'coordinates': {'latitude': '16.3765', 'longitude': '-77.9514'}, 'timezone': {'offset': '-3:30', 'description': 'Newfoundland'}}, 'email': 'eddie.watts@example.com', 'login': {'uuid': 'f5a767b0-2e4a-48b8-9ccc-c08b4498acda', 'username': 'smallpeacock825', 'password': 'maria', 'salt': 'bk4rOGTH', 'md5': '5a842a8510a8baa50077d1484dd128c2', 'sha1': '710a3f6ba612a46f4517f0b63fd338ec292d501f', 'sha256': 'c26a616eac5d14f14fa5a3d9b008876227d8f4af75247492f82010d5dc8d80e8'}, 'dob': {'date': '1985-06-21T18:28:09Z', 'age': 33}, 'registered': {'date': '2002-04-18T07:58:36Z', 'age': 17}, 'phone': '(722)-556-7869', 'cell': '(290)-537-9052', 'id': {'name': 'SSN', 'value': '314-66-1593'}, 'picture': {'large': 'https://randomuser.me/api/portraits/men/55.jpg', 'medium': 'https://randomuser.me/api/portraits/med/men/55.jpg', 'thumbnail': 'https://randomuser.me/api/portraits/thumb/men/55.jpg'}, 'nat': 'US'}, {'gender': 'male', 'name': {'title': 'mr', 'first': 'reginald', 'last': 'gonzales'}, 'location': {'street': '5423 northaven rd', 'city': 'pompano beach', 'state': 'vermont', 'postcode': 35363, 'coordinates': {'latitude': '81.7310', 'longitude': '-86.6768'}, 'timezone': {'offset': '-3:00', 'description': 'Brazil, Buenos Aires, Georgetown'}}, 'email': 'reginald.gonzales@example.com', 'login': {'uuid': 'f095cf09-3526-4ab3-8f5e-c5588be49f9f', 'username': 'redkoala247', 'password': 'boobies', 'salt': 'L0I73nSF', 'md5': 'de413dae95e5614fc4814963a0dccb7b', 'sha1': '35f7029b188be273f99fcc39e2d7f3f004e00839', 'sha256': '70a86bf12a855b1e07b8bf279c7294f09eed8dad17d0f468f1bb061ac6f02635'}, 'dob': {'date': '1948-07-29T17:40:42Z', 'age': 70}, 'registered': {'date': '2014-01-21T13:07:51Z', 'age': 5}, 'phone': '(668)-034-2751', 'cell': '(101)-214-9473', 'id': {'name': 'SSN', 'value': '688-25-2790'}, 'picture': {'large': 'https://randomuser.me/api/portraits/men/72.jpg', 'medium': 'https://randomuser.me/api/portraits/med/men/72.jpg', 'thumbnail': 'https://randomuser.me/api/portraits/thumb/men/72.jpg'}, 'nat': 'US'}, {'gender': 'male', 'name': {'title': 'mr', 'first': 'sebastian', 'last': 'turner'}, 'location': {'street': '3707 lovers ln', 'city': 'edgewood', 'state': 'michigan', 'postcode': 20344, 'coordinates': {'latitude': '67.5700', 'longitude': '-101.4542'}, 'timezone': {'offset': '+1:00', 'description': 'Brussels, Copenhagen, Madrid, Paris'}}, 'email': 'sebastian.turner@example.com', 'login': {'uuid': 'b82b721b-b99d-4166-bb81-111417f7b5ad', 'username': 'ticklishkoala825', 'password': '1981', 'salt': 'yZtlONUf', 'md5': 'c152184a22cc5e9c918dd455697dc509', 'sha1': '0e33e0b9deecd837b4eaf6070b8f3045fd3c56be', 'sha256': 'b7a4260b99dd2eb94925bbb38a1e5f7297e829c3fd8507884b388ceb4fa9979b'}, 'dob': {'date': '1962-08-23T09:46:54Z', 'age': 56}, 'registered': {'date': '2002-12-13T20:30:37Z', 'age': 16}, 'phone': '(935)-945-1205', 'cell': '(916)-389-7926', 'id': {'name': 'SSN', 'value': '191-22-0920'}, 'picture': {'large': 'https://randomuser.me/api/portraits/men/60.jpg', 'medium': 'https://randomuser.me/api/portraits/med/men/60.jpg', 'thumbnail': 'https://randomuser.me/api/portraits/thumb/men/60.jpg'}, 'nat': 'US'}, {'gender': 'male', 'name': {'title': 'mr', 'first': 'evan', 'last': 'turner'}, 'location': {'street': '5320 e center st', 'city': 'chicago', 'state': 'tennessee', 'postcode': 85777, 'coordinates': {'latitude': '65.0881', 'longitude': '-77.5127'}, 'timezone': {'offset': '-5:00', 'description': 'Eastern Time (US & Canada), Bogota, Lima'}}, 'email': 'evan.turner@example.com', 'login': {'uuid': '94bf01de-7574-4616-952a-ab10d7c509e5', 'username': 'yellowmeercat680', 'password': 'corinne', 'salt': 'fNGln8Gd', 'md5': 'dd1e4258471c0e65e0a751d620746862', 'sha1': '774a6b50b2b1cf725ce278384b4dfbc3941000eb', 'sha256': 'faf88dd687c8326ddac7a9c37e8467985374a2d82cba2ce014d38b99fddd38cf'}, 'dob': {'date': '1976-10-13T14:11:05Z', 'age': 42}, 'registered': {'date': '2008-03-19T19:00:38Z', 'age': 11}, 'phone': '(674)-990-2058', 'cell': '(265)-795-7959', 'id': {'name': 'SSN', 'value': '566-22-7698'}, 'picture': {'large': 'https://randomuser.me/api/portraits/men/77.jpg', 'medium': 'https://randomuser.me/api/portraits/med/men/77.jpg', 'thumbnail': 'https://randomuser.me/api/portraits/thumb/men/77.jpg'}, 'nat': 'US'}, {'gender': 'male', 'name': {'title': 'mr', 'first': 'clifton', 'last': 'turner'}, 'location': {'street': '8750 dogwood ave', 'city': 'tyler', 'state': 'north dakota', 'postcode': 55539, 'coordinates': {'latitude': '13.0370', 'longitude': '164.6619'}, 'timezone': {'offset': '+4:30', 'description': 'Kabul'}}, 'email': 'clifton.turner@example.com', 'login': {'uuid': '682318f2-94ee-4bf3-a2e2-430f40f5e382', 'username': 'redsnake911', 'password': 'mental', 'salt': 'mIyIeB2k', 'md5': 'ebbd635e037f599ba557b71208b01fe8', 'sha1': '537b2de4de5db6023ce42d2e4e32a2f35c14547e', 'sha256': 'ed8256f431a880a6f3dd5949ec42f7fb0011d2fb69c71b678214e8969e04ec37'}, 'dob': {'date': '1946-07-02T07:17:25Z', 'age': 72}, 'registered': {'date': '2016-07-28T22:00:26Z', 'age': 2}, 'phone': '(975)-890-6383', 'cell': '(083)-634-0923', 'id': {'name': 'SSN', 'value': '487-54-0854'}, 'picture': {'large': 'https://randomuser.me/api/portraits/men/13.jpg', 'medium': 'https://randomuser.me/api/portraits/med/men/13.jpg', 'thumbnail': 'https://randomuser.me/api/portraits/thumb/men/13.jpg'}, 'nat': 'US'}, {'gender': 'male', 'name': {'title': 'mr', 'first': 'greg', 'last': 'bell'}, 'location': {'street': '9998 bollinger rd', 'city': 'honolulu', 'state': 'ohio', 'postcode': 22669, 'coordinates': {'latitude': '-59.3656', 'longitude': '117.3284'}, 'timezone': {'offset': '+7:00', 'description': 'Bangkok, Hanoi, Jakarta'}}, 'email': 'greg.bell@example.com', 'login': {'uuid': 'd1a823f8-04f9-4a95-89b6-fe1318e399cf', 'username': 'greensnake390', 'password': 'bigboobs', 'salt': '9JzKGlYK', 'md5': '2547b28c01b5ef75cc36a23ead791fac', 'sha1': '349bf040285674dc48ef0ef365964c8ad8b262b0', 'sha256': 'b73948d89751e7766a130ebe621b2fefe266b323bf0b0db5435d2a4b56120c5b'}, 'dob': {'date': '1967-03-18T11:30:18Z', 'age': 52}, 'registered': {'date': '2002-10-23T01:24:31Z', 'age': 16}, 'phone': '(534)-414-8321', 'cell': '(053)-937-6031', 'id': {'name': 'SSN', 'value': '618-16-1540'}, 'picture': {'large': 'https://randomuser.me/api/portraits/men/12.jpg', 'medium': 'https://randomuser.me/api/portraits/med/men/12.jpg', 'thumbnail': 'https://randomuser.me/api/portraits/thumb/men/12.jpg'}, 'nat': 'US'}, {'gender': 'male', 'name': {'title': 'mr', 'first': 'jared', 'last': 'miller'}, 'location': {'street': '4568 w gray st', 'city': 'scurry', 'state': 'north dakota', 'postcode': 36339, 'coordinates': {'latitude': '2.1810', 'longitude': '87.3966'}, 'timezone': {'offset': '+2:00', 'description': 'Kaliningrad, South Africa'}}, 'email': 'jared.miller@example.com', 'login': {'uuid': 'e8e99a44-caed-4d2e-ad2e-a8386817d29a', 'username': 'crazyduck158', 'password': 'redwings', 'salt': 'FZX94wi1', 'md5': '3fbee398cc8b9012ea403c2360728e85', 'sha1': '27493b2e9956ca86231c3182dc13ec1a11696c94', 'sha256': '107755c8daab60259c143923bd06c60bc1cd06bb6f8c69b57b08dfd9532ceab7'}, 'dob': {'date': '1989-07-03T21:21:54Z', 'age': 29}, 'registered': {'date': '2008-10-31T04:42:07Z', 'age': 10}, 'phone': '(619)-920-2299', 'cell': '(885)-049-2305', 'id': {'name': 'SSN', 'value': '111-05-1367'}, 'picture': {'large': 'https://randomuser.me/api/portraits/men/71.jpg', 'medium': 'https://randomuser.me/api/portraits/med/men/71.jpg', 'thumbnail': 'https://randomuser.me/api/portraits/thumb/men/71.jpg'}, 'nat': 'US'}, {'gender': 'male', 'name': {'title': 'mr', 'first': 'hunter', 'last': 'williamson'}, 'location': {'street': '6862 country club rd', 'city': 'wichita falls', 'state': 'idaho', 'postcode': 95935, 'coordinates': {'latitude': '58.4902', 'longitude': '144.6174'}, 'timezone': {'offset': '-7:00', 'description': 'Mountain Time (US & Canada)'}}, 'email': 'hunter.williamson@example.com', 'login': {'uuid': '0e2fc8ef-1a4c-450c-9947-0f446ec870d9', 'username': 'beautifulzebra163', 'password': 'leonardo', 'salt': 'v53lMDI6', 'md5': '7d5228821cc8118291bbc498da77f61d', 'sha1': 'cb3012a9533598412714b1c02805906f37440018', 'sha256': '0fd211457792eee08e86bbd470b5b8887b80c18a0f1b10d9a08c70df44edd71d'}, 'dob': {'date': '1969-02-23T04:34:06Z', 'age': 50}, 'registered': {'date': '2014-02-25T17:38:40Z', 'age': 5}, 'phone': '(661)-129-3347', 'cell': '(890)-350-8052', 'id': {'name': 'SSN', 'value': '161-91-1463'}, 'picture': {'large': 'https://randomuser.me/api/portraits/men/96.jpg', 'medium': 'https://randomuser.me/api/portraits/med/men/96.jpg', 'thumbnail': 'https://randomuser.me/api/portraits/thumb/men/96.jpg'}, 'nat': 'US'}, {'gender': 'male', 'name': {'title': 'mr', 'first': 'willard', 'last': 'taylor'}, 'location': {'street': '4153 walnut hill ln', 'city': 'cape coral', 'state': 'massachusetts', 'postcode': 91130, 'coordinates': {'latitude': '-17.6346', 'longitude': '68.7009'}, 'timezone': {'offset': '+4:30', 'description': 'Kabul'}}, 'email': 'willard.taylor@example.com', 'login': {'uuid': '60cf06a2-f969-482d-925d-5602867726d6', 'username': 'purpletiger223', 'password': 'rockon', 'salt': 'p0XJFxIb', 'md5': '99647afe6d98d71d4cb42ce7b489e694', 'sha1': '2c8f56d11692cdfaba881d9e7087a6a0907ccc76', 'sha256': '404d1ed40f17f4c28998cb6dffd61c3e9ac26b4f890fca7baad279dafd580e82'}, 'dob': {'date': '1949-08-05T08:19:28Z', 'age': 69}, 'registered': {'date': '2005-01-31T23:18:33Z', 'age': 14}, 'phone': '(487)-778-5197', 'cell': '(122)-222-6791', 'id': {'name': 'SSN', 'value': '259-16-5090'}, 'picture': {'large': 'https://randomuser.me/api/portraits/men/12.jpg', 'medium': 'https://randomuser.me/api/portraits/med/men/12.jpg', 'thumbnail': 'https://randomuser.me/api/portraits/thumb/men/12.jpg'}, 'nat': 'US'}, {'gender': 'male', 'name': {'title': 'mr', 'first': 'dave', 'last': 'perry'}, 'location': {'street': '2204 valley view ln', 'city': 'pompano beach', 'state': 'minnesota', 'postcode': 87246, 'coordinates': {'latitude': '-41.9567', 'longitude': '-117.4286'}, 'timezone': {'offset': '+3:00', 'description': 'Baghdad, Riyadh, Moscow, St. Petersburg'}}, 'email': 'dave.perry@example.com', 'login': {'uuid': '095f5ca0-52a2-4e2b-a970-27987eda48dc', 'username': 'greenduck532', 'password': 'jamaica', 'salt': '1tMKtDPh', 'md5': '3a3aa19d6c1d0716695eba3bd58e0389', 'sha1': '620e2ea9f8d952b96b3d74a45fe2dc24f019587d', 'sha256': '5e0b7937fe8beff7363cd000b4ac233b0197d9cf0fbe8d7b192bb94765b170f6'}, 'dob': {'date': '1951-02-16T09:57:51Z', 'age': 68}, 'registered': {'date': '2012-06-14T12:51:56Z', 'age': 6}, 'phone': '(192)-250-3842', 'cell': '(209)-925-3514', 'id': {'name': 'SSN', 'value': '419-40-6663'}, 'picture': {'large': 'https://randomuser.me/api/portraits/men/33.jpg', 'medium': 'https://randomuser.me/api/portraits/med/men/33.jpg', 'thumbnail': 'https://randomuser.me/api/portraits/thumb/men/33.jpg'}, 'nat': 'US'}], 'info': {'seed': 'fd031dd598fcbc71', 'results': 10, 'page': 1, 'version': '1.2'}}\n"
     ]
    }
   ],
   "source": [
    "print(data)"
   ]
  },
  {
   "cell_type": "markdown",
   "metadata": {},
   "source": [
    "* *pretty-print* (pprint) prints complex data structures like dictionary prettier.  https://docs.python.org/3/library/pprint.html "
   ]
  },
  {
   "cell_type": "code",
   "execution_count": 17,
   "metadata": {
    "collapsed": true
   },
   "outputs": [
    {
     "name": "stdout",
     "output_type": "stream",
     "text": [
      "{'info': {'page': 1,\n",
      "          'results': 10,\n",
      "          'seed': 'fd031dd598fcbc71',\n",
      "          'version': '1.2'},\n",
      " 'results': [{'cell': '(290)-537-9052',\n",
      "              'dob': {'age': 33, 'date': '1985-06-21T18:28:09Z'},\n",
      "              'email': 'eddie.watts@example.com',\n",
      "              'gender': 'male',\n",
      "              'id': {'name': 'SSN', 'value': '314-66-1593'},\n",
      "              'location': {'city': 'hollywood',\n",
      "                           'coordinates': {'latitude': '16.3765',\n",
      "                                           'longitude': '-77.9514'},\n",
      "                           'postcode': 72014,\n",
      "                           'state': 'mississippi',\n",
      "                           'street': '6730 lakeview st',\n",
      "                           'timezone': {'description': 'Newfoundland',\n",
      "                                        'offset': '-3:30'}},\n",
      "              'login': {'md5': '5a842a8510a8baa50077d1484dd128c2',\n",
      "                        'password': 'maria',\n",
      "                        'salt': 'bk4rOGTH',\n",
      "                        'sha1': '710a3f6ba612a46f4517f0b63fd338ec292d501f',\n",
      "                        'sha256': 'c26a616eac5d14f14fa5a3d9b008876227d8f4af75247492f82010d5dc8d80e8',\n",
      "                        'username': 'smallpeacock825',\n",
      "                        'uuid': 'f5a767b0-2e4a-48b8-9ccc-c08b4498acda'},\n",
      "              'name': {'first': 'eddie', 'last': 'watts', 'title': 'mr'},\n",
      "              'nat': 'US',\n",
      "              'phone': '(722)-556-7869',\n",
      "              'picture': {'large': 'https://randomuser.me/api/portraits/men/55.jpg',\n",
      "                          'medium': 'https://randomuser.me/api/portraits/med/men/55.jpg',\n",
      "                          'thumbnail': 'https://randomuser.me/api/portraits/thumb/men/55.jpg'},\n",
      "              'registered': {'age': 17, 'date': '2002-04-18T07:58:36Z'}},\n",
      "             {'cell': '(101)-214-9473',\n",
      "              'dob': {'age': 70, 'date': '1948-07-29T17:40:42Z'},\n",
      "              'email': 'reginald.gonzales@example.com',\n",
      "              'gender': 'male',\n",
      "              'id': {'name': 'SSN', 'value': '688-25-2790'},\n",
      "              'location': {'city': 'pompano beach',\n",
      "                           'coordinates': {'latitude': '81.7310',\n",
      "                                           'longitude': '-86.6768'},\n",
      "                           'postcode': 35363,\n",
      "                           'state': 'vermont',\n",
      "                           'street': '5423 northaven rd',\n",
      "                           'timezone': {'description': 'Brazil, Buenos Aires, '\n",
      "                                                       'Georgetown',\n",
      "                                        'offset': '-3:00'}},\n",
      "              'login': {'md5': 'de413dae95e5614fc4814963a0dccb7b',\n",
      "                        'password': 'boobies',\n",
      "                        'salt': 'L0I73nSF',\n",
      "                        'sha1': '35f7029b188be273f99fcc39e2d7f3f004e00839',\n",
      "                        'sha256': '70a86bf12a855b1e07b8bf279c7294f09eed8dad17d0f468f1bb061ac6f02635',\n",
      "                        'username': 'redkoala247',\n",
      "                        'uuid': 'f095cf09-3526-4ab3-8f5e-c5588be49f9f'},\n",
      "              'name': {'first': 'reginald', 'last': 'gonzales', 'title': 'mr'},\n",
      "              'nat': 'US',\n",
      "              'phone': '(668)-034-2751',\n",
      "              'picture': {'large': 'https://randomuser.me/api/portraits/men/72.jpg',\n",
      "                          'medium': 'https://randomuser.me/api/portraits/med/men/72.jpg',\n",
      "                          'thumbnail': 'https://randomuser.me/api/portraits/thumb/men/72.jpg'},\n",
      "              'registered': {'age': 5, 'date': '2014-01-21T13:07:51Z'}},\n",
      "             {'cell': '(916)-389-7926',\n",
      "              'dob': {'age': 56, 'date': '1962-08-23T09:46:54Z'},\n",
      "              'email': 'sebastian.turner@example.com',\n",
      "              'gender': 'male',\n",
      "              'id': {'name': 'SSN', 'value': '191-22-0920'},\n",
      "              'location': {'city': 'edgewood',\n",
      "                           'coordinates': {'latitude': '67.5700',\n",
      "                                           'longitude': '-101.4542'},\n",
      "                           'postcode': 20344,\n",
      "                           'state': 'michigan',\n",
      "                           'street': '3707 lovers ln',\n",
      "                           'timezone': {'description': 'Brussels, Copenhagen, '\n",
      "                                                       'Madrid, Paris',\n",
      "                                        'offset': '+1:00'}},\n",
      "              'login': {'md5': 'c152184a22cc5e9c918dd455697dc509',\n",
      "                        'password': '1981',\n",
      "                        'salt': 'yZtlONUf',\n",
      "                        'sha1': '0e33e0b9deecd837b4eaf6070b8f3045fd3c56be',\n",
      "                        'sha256': 'b7a4260b99dd2eb94925bbb38a1e5f7297e829c3fd8507884b388ceb4fa9979b',\n",
      "                        'username': 'ticklishkoala825',\n",
      "                        'uuid': 'b82b721b-b99d-4166-bb81-111417f7b5ad'},\n",
      "              'name': {'first': 'sebastian', 'last': 'turner', 'title': 'mr'},\n",
      "              'nat': 'US',\n",
      "              'phone': '(935)-945-1205',\n",
      "              'picture': {'large': 'https://randomuser.me/api/portraits/men/60.jpg',\n",
      "                          'medium': 'https://randomuser.me/api/portraits/med/men/60.jpg',\n",
      "                          'thumbnail': 'https://randomuser.me/api/portraits/thumb/men/60.jpg'},\n",
      "              'registered': {'age': 16, 'date': '2002-12-13T20:30:37Z'}},\n",
      "             {'cell': '(265)-795-7959',\n",
      "              'dob': {'age': 42, 'date': '1976-10-13T14:11:05Z'},\n",
      "              'email': 'evan.turner@example.com',\n",
      "              'gender': 'male',\n",
      "              'id': {'name': 'SSN', 'value': '566-22-7698'},\n",
      "              'location': {'city': 'chicago',\n",
      "                           'coordinates': {'latitude': '65.0881',\n",
      "                                           'longitude': '-77.5127'},\n",
      "                           'postcode': 85777,\n",
      "                           'state': 'tennessee',\n",
      "                           'street': '5320 e center st',\n",
      "                           'timezone': {'description': 'Eastern Time (US & '\n",
      "                                                       'Canada), Bogota, Lima',\n",
      "                                        'offset': '-5:00'}},\n",
      "              'login': {'md5': 'dd1e4258471c0e65e0a751d620746862',\n",
      "                        'password': 'corinne',\n",
      "                        'salt': 'fNGln8Gd',\n",
      "                        'sha1': '774a6b50b2b1cf725ce278384b4dfbc3941000eb',\n",
      "                        'sha256': 'faf88dd687c8326ddac7a9c37e8467985374a2d82cba2ce014d38b99fddd38cf',\n",
      "                        'username': 'yellowmeercat680',\n",
      "                        'uuid': '94bf01de-7574-4616-952a-ab10d7c509e5'},\n",
      "              'name': {'first': 'evan', 'last': 'turner', 'title': 'mr'},\n",
      "              'nat': 'US',\n",
      "              'phone': '(674)-990-2058',\n",
      "              'picture': {'large': 'https://randomuser.me/api/portraits/men/77.jpg',\n",
      "                          'medium': 'https://randomuser.me/api/portraits/med/men/77.jpg',\n",
      "                          'thumbnail': 'https://randomuser.me/api/portraits/thumb/men/77.jpg'},\n",
      "              'registered': {'age': 11, 'date': '2008-03-19T19:00:38Z'}},\n",
      "             {'cell': '(083)-634-0923',\n",
      "              'dob': {'age': 72, 'date': '1946-07-02T07:17:25Z'},\n",
      "              'email': 'clifton.turner@example.com',\n",
      "              'gender': 'male',\n",
      "              'id': {'name': 'SSN', 'value': '487-54-0854'},\n",
      "              'location': {'city': 'tyler',\n",
      "                           'coordinates': {'latitude': '13.0370',\n",
      "                                           'longitude': '164.6619'},\n",
      "                           'postcode': 55539,\n",
      "                           'state': 'north dakota',\n",
      "                           'street': '8750 dogwood ave',\n",
      "                           'timezone': {'description': 'Kabul',\n",
      "                                        'offset': '+4:30'}},\n",
      "              'login': {'md5': 'ebbd635e037f599ba557b71208b01fe8',\n",
      "                        'password': 'mental',\n",
      "                        'salt': 'mIyIeB2k',\n",
      "                        'sha1': '537b2de4de5db6023ce42d2e4e32a2f35c14547e',\n",
      "                        'sha256': 'ed8256f431a880a6f3dd5949ec42f7fb0011d2fb69c71b678214e8969e04ec37',\n",
      "                        'username': 'redsnake911',\n",
      "                        'uuid': '682318f2-94ee-4bf3-a2e2-430f40f5e382'},\n",
      "              'name': {'first': 'clifton', 'last': 'turner', 'title': 'mr'},\n",
      "              'nat': 'US',\n",
      "              'phone': '(975)-890-6383',\n",
      "              'picture': {'large': 'https://randomuser.me/api/portraits/men/13.jpg',\n",
      "                          'medium': 'https://randomuser.me/api/portraits/med/men/13.jpg',\n",
      "                          'thumbnail': 'https://randomuser.me/api/portraits/thumb/men/13.jpg'},\n",
      "              'registered': {'age': 2, 'date': '2016-07-28T22:00:26Z'}},\n",
      "             {'cell': '(053)-937-6031',\n",
      "              'dob': {'age': 52, 'date': '1967-03-18T11:30:18Z'},\n",
      "              'email': 'greg.bell@example.com',\n",
      "              'gender': 'male',\n",
      "              'id': {'name': 'SSN', 'value': '618-16-1540'},\n",
      "              'location': {'city': 'honolulu',\n",
      "                           'coordinates': {'latitude': '-59.3656',\n",
      "                                           'longitude': '117.3284'},\n",
      "                           'postcode': 22669,\n",
      "                           'state': 'ohio',\n",
      "                           'street': '9998 bollinger rd',\n",
      "                           'timezone': {'description': 'Bangkok, Hanoi, '\n",
      "                                                       'Jakarta',\n",
      "                                        'offset': '+7:00'}},\n",
      "              'login': {'md5': '2547b28c01b5ef75cc36a23ead791fac',\n",
      "                        'password': 'bigboobs',\n",
      "                        'salt': '9JzKGlYK',\n",
      "                        'sha1': '349bf040285674dc48ef0ef365964c8ad8b262b0',\n",
      "                        'sha256': 'b73948d89751e7766a130ebe621b2fefe266b323bf0b0db5435d2a4b56120c5b',\n",
      "                        'username': 'greensnake390',\n",
      "                        'uuid': 'd1a823f8-04f9-4a95-89b6-fe1318e399cf'},\n",
      "              'name': {'first': 'greg', 'last': 'bell', 'title': 'mr'},\n",
      "              'nat': 'US',\n",
      "              'phone': '(534)-414-8321',\n",
      "              'picture': {'large': 'https://randomuser.me/api/portraits/men/12.jpg',\n",
      "                          'medium': 'https://randomuser.me/api/portraits/med/men/12.jpg',\n",
      "                          'thumbnail': 'https://randomuser.me/api/portraits/thumb/men/12.jpg'},\n",
      "              'registered': {'age': 16, 'date': '2002-10-23T01:24:31Z'}},\n",
      "             {'cell': '(885)-049-2305',\n",
      "              'dob': {'age': 29, 'date': '1989-07-03T21:21:54Z'},\n",
      "              'email': 'jared.miller@example.com',\n",
      "              'gender': 'male',\n",
      "              'id': {'name': 'SSN', 'value': '111-05-1367'},\n",
      "              'location': {'city': 'scurry',\n",
      "                           'coordinates': {'latitude': '2.1810',\n",
      "                                           'longitude': '87.3966'},\n",
      "                           'postcode': 36339,\n",
      "                           'state': 'north dakota',\n",
      "                           'street': '4568 w gray st',\n",
      "                           'timezone': {'description': 'Kaliningrad, South '\n",
      "                                                       'Africa',\n",
      "                                        'offset': '+2:00'}},\n",
      "              'login': {'md5': '3fbee398cc8b9012ea403c2360728e85',\n",
      "                        'password': 'redwings',\n",
      "                        'salt': 'FZX94wi1',\n",
      "                        'sha1': '27493b2e9956ca86231c3182dc13ec1a11696c94',\n",
      "                        'sha256': '107755c8daab60259c143923bd06c60bc1cd06bb6f8c69b57b08dfd9532ceab7',\n",
      "                        'username': 'crazyduck158',\n",
      "                        'uuid': 'e8e99a44-caed-4d2e-ad2e-a8386817d29a'},\n",
      "              'name': {'first': 'jared', 'last': 'miller', 'title': 'mr'},\n",
      "              'nat': 'US',\n",
      "              'phone': '(619)-920-2299',\n",
      "              'picture': {'large': 'https://randomuser.me/api/portraits/men/71.jpg',\n",
      "                          'medium': 'https://randomuser.me/api/portraits/med/men/71.jpg',\n",
      "                          'thumbnail': 'https://randomuser.me/api/portraits/thumb/men/71.jpg'},\n",
      "              'registered': {'age': 10, 'date': '2008-10-31T04:42:07Z'}},\n",
      "             {'cell': '(890)-350-8052',\n",
      "              'dob': {'age': 50, 'date': '1969-02-23T04:34:06Z'},\n",
      "              'email': 'hunter.williamson@example.com',\n",
      "              'gender': 'male',\n",
      "              'id': {'name': 'SSN', 'value': '161-91-1463'},\n",
      "              'location': {'city': 'wichita falls',\n",
      "                           'coordinates': {'latitude': '58.4902',\n",
      "                                           'longitude': '144.6174'},\n",
      "                           'postcode': 95935,\n",
      "                           'state': 'idaho',\n",
      "                           'street': '6862 country club rd',\n",
      "                           'timezone': {'description': 'Mountain Time (US & '\n",
      "                                                       'Canada)',\n",
      "                                        'offset': '-7:00'}},\n",
      "              'login': {'md5': '7d5228821cc8118291bbc498da77f61d',\n",
      "                        'password': 'leonardo',\n",
      "                        'salt': 'v53lMDI6',\n",
      "                        'sha1': 'cb3012a9533598412714b1c02805906f37440018',\n",
      "                        'sha256': '0fd211457792eee08e86bbd470b5b8887b80c18a0f1b10d9a08c70df44edd71d',\n",
      "                        'username': 'beautifulzebra163',\n",
      "                        'uuid': '0e2fc8ef-1a4c-450c-9947-0f446ec870d9'},\n",
      "              'name': {'first': 'hunter', 'last': 'williamson', 'title': 'mr'},\n",
      "              'nat': 'US',\n",
      "              'phone': '(661)-129-3347',\n",
      "              'picture': {'large': 'https://randomuser.me/api/portraits/men/96.jpg',\n",
      "                          'medium': 'https://randomuser.me/api/portraits/med/men/96.jpg',\n",
      "                          'thumbnail': 'https://randomuser.me/api/portraits/thumb/men/96.jpg'},\n",
      "              'registered': {'age': 5, 'date': '2014-02-25T17:38:40Z'}},\n",
      "             {'cell': '(122)-222-6791',\n",
      "              'dob': {'age': 69, 'date': '1949-08-05T08:19:28Z'},\n",
      "              'email': 'willard.taylor@example.com',\n",
      "              'gender': 'male',\n",
      "              'id': {'name': 'SSN', 'value': '259-16-5090'},\n",
      "              'location': {'city': 'cape coral',\n",
      "                           'coordinates': {'latitude': '-17.6346',\n",
      "                                           'longitude': '68.7009'},\n",
      "                           'postcode': 91130,\n",
      "                           'state': 'massachusetts',\n",
      "                           'street': '4153 walnut hill ln',\n",
      "                           'timezone': {'description': 'Kabul',\n",
      "                                        'offset': '+4:30'}},\n",
      "              'login': {'md5': '99647afe6d98d71d4cb42ce7b489e694',\n",
      "                        'password': 'rockon',\n",
      "                        'salt': 'p0XJFxIb',\n",
      "                        'sha1': '2c8f56d11692cdfaba881d9e7087a6a0907ccc76',\n",
      "                        'sha256': '404d1ed40f17f4c28998cb6dffd61c3e9ac26b4f890fca7baad279dafd580e82',\n",
      "                        'username': 'purpletiger223',\n",
      "                        'uuid': '60cf06a2-f969-482d-925d-5602867726d6'},\n",
      "              'name': {'first': 'willard', 'last': 'taylor', 'title': 'mr'},\n",
      "              'nat': 'US',\n",
      "              'phone': '(487)-778-5197',\n",
      "              'picture': {'large': 'https://randomuser.me/api/portraits/men/12.jpg',\n",
      "                          'medium': 'https://randomuser.me/api/portraits/med/men/12.jpg',\n",
      "                          'thumbnail': 'https://randomuser.me/api/portraits/thumb/men/12.jpg'},\n",
      "              'registered': {'age': 14, 'date': '2005-01-31T23:18:33Z'}},\n",
      "             {'cell': '(209)-925-3514',\n",
      "              'dob': {'age': 68, 'date': '1951-02-16T09:57:51Z'},\n",
      "              'email': 'dave.perry@example.com',\n",
      "              'gender': 'male',\n",
      "              'id': {'name': 'SSN', 'value': '419-40-6663'},\n",
      "              'location': {'city': 'pompano beach',\n",
      "                           'coordinates': {'latitude': '-41.9567',\n",
      "                                           'longitude': '-117.4286'},\n",
      "                           'postcode': 87246,\n",
      "                           'state': 'minnesota',\n",
      "                           'street': '2204 valley view ln',\n",
      "                           'timezone': {'description': 'Baghdad, Riyadh, '\n",
      "                                                       'Moscow, St. Petersburg',\n",
      "                                        'offset': '+3:00'}},\n",
      "              'login': {'md5': '3a3aa19d6c1d0716695eba3bd58e0389',\n",
      "                        'password': 'jamaica',\n",
      "                        'salt': '1tMKtDPh',\n",
      "                        'sha1': '620e2ea9f8d952b96b3d74a45fe2dc24f019587d',\n",
      "                        'sha256': '5e0b7937fe8beff7363cd000b4ac233b0197d9cf0fbe8d7b192bb94765b170f6',\n",
      "                        'username': 'greenduck532',\n",
      "                        'uuid': '095f5ca0-52a2-4e2b-a970-27987eda48dc'},\n",
      "              'name': {'first': 'dave', 'last': 'perry', 'title': 'mr'},\n",
      "              'nat': 'US',\n",
      "              'phone': '(192)-250-3842',\n",
      "              'picture': {'large': 'https://randomuser.me/api/portraits/men/33.jpg',\n",
      "                          'medium': 'https://randomuser.me/api/portraits/med/men/33.jpg',\n",
      "                          'thumbnail': 'https://randomuser.me/api/portraits/thumb/men/33.jpg'},\n",
      "              'registered': {'age': 6, 'date': '2012-06-14T12:51:56Z'}}]}\n"
     ]
    }
   ],
   "source": [
    "from pprint import pprint\n",
    "pprint(data)"
   ]
  },
  {
   "cell_type": "markdown",
   "metadata": {},
   "source": [
    "* Loop through the dictionary and print all first names"
   ]
  },
  {
   "cell_type": "code",
   "execution_count": 26,
   "metadata": {
    "collapsed": true
   },
   "outputs": [
    {
     "name": "stdout",
     "output_type": "stream",
     "text": [
      "eddie\n",
      "reginald\n",
      "sebastian\n",
      "evan\n",
      "clifton\n",
      "greg\n",
      "jared\n",
      "hunter\n",
      "willard\n",
      "dave\n"
     ]
    }
   ],
   "source": [
    "# TODO\n",
    "\n",
    "for i in data[\"results\"]:\n",
    "    print (i[\"name\"][\"first\"])\n",
    "            "
   ]
  },
  {
   "cell_type": "markdown",
   "metadata": {},
   "source": [
    "* Get all astronauts who are right now in space. You get the information about the Web APU from here  http://open-notify.org/Open-Notify-API/People-In-Space/ "
   ]
  },
  {
   "cell_type": "code",
   "execution_count": 27,
   "metadata": {
    "collapsed": true
   },
   "outputs": [],
   "source": [
    "# TODO\n",
    "# Get the response from the API endpoint.\n",
    "response = requests.get(\"http://api.open-notify.org/astros.json\")\n",
    "\n",
    "data = response.json()"
   ]
  },
  {
   "cell_type": "markdown",
   "metadata": {},
   "source": [
    "* Print the number of people that are right now in space"
   ]
  },
  {
   "cell_type": "code",
   "execution_count": 28,
   "metadata": {
    "collapsed": true
   },
   "outputs": [
    {
     "name": "stdout",
     "output_type": "stream",
     "text": [
      "6\n"
     ]
    }
   ],
   "source": [
    "# TODO\n",
    "print(data[\"number\"])\n"
   ]
  },
  {
   "cell_type": "markdown",
   "metadata": {},
   "source": [
    "* Print the names of all astronauts "
   ]
  },
  {
   "cell_type": "code",
   "execution_count": 31,
   "metadata": {
    "collapsed": true
   },
   "outputs": [
    {
     "name": "stdout",
     "output_type": "stream",
     "text": [
      "Oleg Kononenko\n",
      "David Saint-Jacques\n",
      "Anne McClain\n",
      "Alexey Ovchinin\n",
      "Nick Hague\n",
      "Christina Koch\n"
     ]
    }
   ],
   "source": [
    "# TODO\n",
    "\n",
    "for i in data[\"people\"]:\n",
    "    print (i[\"name\"])"
   ]
  },
  {
   "cell_type": "markdown",
   "metadata": {},
   "source": [
    "* A lot of Web APIs require a api-key for interacting with them (like Twitter, Facebook, …). You find at http://www.python-requests.org/en/latest/user/authentication/ more information for Authentication for Web APIs with the request package\n",
    "* There are also special Python packages for interacting with services. E.g. for Twitter: http://www.tweepy.org/ or  https://github.com/bear/python-twitter \n",
    "\n",
    "See e.g. http://socialmedia-class.org/twittertutorial.html for a tutorial"
   ]
  },
  {
   "cell_type": "markdown",
   "metadata": {},
   "source": [
    "## 2. Creating a Web API\n",
    "\n",
    "* Create a folder `webapi` and change into it.\n",
    "* Create in the `webapi` folder a file with the name `Dockerfile` with the following content:\n",
    "\n",
    "----\n",
    "```bash\n",
    "# Use an official Python runtime as a parent image\n",
    "FROM python:3.7-slim\n",
    "\n",
    "# Set the working directory to /app\n",
    "WORKDIR /app\n",
    "\n",
    "# Copy the current directory contents into the container at /app\n",
    "COPY app/ /app\n",
    "\n",
    "# Install any needed packages specified in requirements.txt\n",
    "RUN pip install --trusted-host pypi.python.org -r requirements.txt\n",
    "\n",
    "# Make port 80 available to the world outside this container\n",
    "EXPOSE 80\n",
    "\n",
    "# Run app.py when the container launches\n",
    "CMD [\"python\", \"app.py\"]\n",
    "```\n",
    "\n",
    "-----\n",
    "\n",
    "* We can also use Docker compose with just one service. Create in your `webapi` folder a `docker-compose.yml` file:\n",
    "\n",
    "-----\n",
    "\n",
    "```yaml\n",
    "version: '3'\n",
    "services:\n",
    "  api:\n",
    "    build: .\n",
    "    ports:\n",
    "      - \"5000:80\"\n",
    "    restart: always\n",
    "    volumes:\n",
    "      - ./app:/app\n",
    "```\n",
    "-----\n",
    "\n",
    "* Create a folder in the `webapi` folder a new folder with the name `app`\n",
    "* We will build a web API with `Flask` (http://flask.pocoo.org/) . Create a `requirements.txt` file in the `app` folder. Here we can specify all python `pip` packages that we need:\n",
    "\n",
    "-----\n",
    "```bash\n",
    "Flask\n",
    "```\n",
    "-----\n",
    "\n",
    "* Create the `app.py` file in the `app` folder:\n",
    "\n",
    "-----\n",
    "```python\n",
    "from flask import Flask\n",
    "from flask import request, jsonify\n",
    "\n",
    "app = Flask(__name__)\n",
    "\n",
    "courses = [\n",
    "    {'id': 0,\n",
    "     'title': 'Data Science',\n",
    "     'professor': 'Markus Löcher',\n",
    "     'semester': '1'},\n",
    "    {'id': 1,\n",
    "     'title': 'Data Warehousing',\n",
    "     'professor': 'Roland M. Mueller',\n",
    "     'semester': '1'},\n",
    "    {'id': 2,\n",
    "     'title': 'Business Process Management',\n",
    "     'professor': 'Frank Habermann',\n",
    "     'semester': '1'},\n",
    "    {'id': 3,\n",
    "     'title': 'Stratigic Issues of IT',\n",
    "     'professor': 'Sven Pohland',\n",
    "     'semester': '1'},\n",
    "    {'id': 4,\n",
    "     'title': 'Text, Web and Social Media Analytics Lab',\n",
    "     'professor': 'Markus Löcher',\n",
    "     'semester': '2'},\n",
    "    {'id': 5,\n",
    "     'title': 'Enterprise Architectures for Big Data',\n",
    "     'professor': 'Roland M. Mueller',\n",
    "     'semester': '2'},\n",
    "    {'id': 6,\n",
    "     'title': 'Business Process Integration Lab',\n",
    "     'professor': 'Frank Habermann',\n",
    "     'semester': '2'},\n",
    "    {'id': 7,\n",
    "     'title': 'IT-Security and Privacy',\n",
    "     'professor': 'Dennis Uckel',\n",
    "     'semester': '2'},\n",
    "    {'id': 8,\n",
    "     'title': 'Research Methods',\n",
    "     'professor': 'Marcus Birkenkrahe',\n",
    "     'semester': '2'},\n",
    "]\n",
    "\n",
    "@app.route('/api/v1/courses/all', methods=['GET'])\n",
    "def api_all():\n",
    "    return jsonify(courses)\n",
    "\n",
    "@app.route('/api/v1/courses', methods=['GET'])\n",
    "def api_id():\n",
    "    # Check if an ID was provided as part of the URL.\n",
    "    # If ID is provided, assign it to a variable.\n",
    "    # If no ID is provided, display an error in the browser.\n",
    "    if 'id' in request.args:\n",
    "        id = int(request.args['id'])\n",
    "    else:\n",
    "        return \"Error: No id field provided. Please specify an id.\"\n",
    "\n",
    "    # Create an empty list for our results\n",
    "    results = []\n",
    "\n",
    "    # Loop through the data and match results that fit the requested ID.\n",
    "    # IDs are unique, but other fields might return many results\n",
    "    for course in courses:\n",
    "        if course['id'] == id:\n",
    "            results.append(course)\n",
    "\n",
    "    # Use the jsonify function from Flask to convert our list of\n",
    "    # Python dictionaries to the JSON format.\n",
    "    return jsonify(results)\n",
    "\n",
    "if __name__ == \"__main__\":\n",
    "    app.run(host=\"0.0.0.0\", port=80, debug=True)\n",
    "```\n",
    "-----\n",
    "* Open http://localhost:5000/api/v1/courses/all in a browser\n",
    "* Open http://localhost:5000/api/v1/courses?id=5 in a browser\n"
   ]
  },
  {
   "cell_type": "markdown",
   "metadata": {},
   "source": [
    "* Use your own API here in the Jupyter Notebook with Python and print all names of all courses "
   ]
  },
  {
   "cell_type": "code",
   "execution_count": 33,
   "metadata": {
    "collapsed": true
   },
   "outputs": [
    {
     "name": "stdout",
     "output_type": "stream",
     "text": [
      "Data Science\n",
      "Data Warehousing\n",
      "Business Process Management\n",
      "Stratigic Issues of IT\n",
      "Text, Web and Social Media Analytics Lab\n",
      "Enterprise Architectures for Big Data\n",
      "Business Process Integration Lab\n",
      "IT-Security and Privacy\n",
      "Research Methods\n"
     ]
    }
   ],
   "source": [
    "# TODO\n",
    "response = requests.get(\"http://192.168.99.100:5000/api/v1/courses/all\")\n",
    "\n",
    "data = response.json()\n",
    "\n",
    "for i in data:\n",
    "    print (i[\"title\"])"
   ]
  },
  {
   "cell_type": "markdown",
   "metadata": {},
   "source": [
    "* Add the possibility to find courses based on the semester\n",
    "* Use your API in Python and print all names of all courses in the second semester"
   ]
  },
  {
   "cell_type": "code",
   "execution_count": 34,
   "metadata": {
    "collapsed": true
   },
   "outputs": [
    {
     "name": "stdout",
     "output_type": "stream",
     "text": [
      "Text, Web and Social Media Analytics Lab\n",
      "Enterprise Architectures for Big Data\n",
      "Business Process Integration Lab\n",
      "IT-Security and Privacy\n",
      "Research Methods\n"
     ]
    }
   ],
   "source": [
    "# TODO\n",
    "response = requests.get(\"http://192.168.99.100:5000/api/v1/courses?semester=2\")\n",
    "\n",
    "data = response.json()\n",
    "\n",
    "for i in data:\n",
    "    print (i[\"title\"])"
   ]
  },
  {
   "cell_type": "markdown",
   "metadata": {},
   "source": [
    "* Add a function that can convert Fahrenheit to Celsius \n",
    "* Call your API and get the Celsius value for 100°F Fahrenheit"
   ]
  },
  {
   "cell_type": "code",
   "execution_count": 35,
   "metadata": {
    "collapsed": true
   },
   "outputs": [
    {
     "name": "stdout",
     "output_type": "stream",
     "text": [
      "37.77777777777778\n"
     ]
    }
   ],
   "source": [
    "# TODO\n",
    "response = requests.get(\"http://192.168.99.100:5000/api/v1/farenheit_to_celsius?farenheit=100\")\n",
    "\n",
    "data = response.json()\n",
    "\n",
    "print (data)\n"
   ]
  }
 ],
 "metadata": {
  "kernelspec": {
   "display_name": "Python 3",
   "language": "python",
   "name": "python3"
  },
  "language_info": {
   "codemirror_mode": {
    "name": "ipython",
    "version": 3
   },
   "file_extension": ".py",
   "mimetype": "text/x-python",
   "name": "python",
   "nbconvert_exporter": "python",
   "pygments_lexer": "ipython3",
   "version": "3.7.1"
  },
  "varInspector": {
   "cols": {
    "lenName": 16,
    "lenType": 16,
    "lenVar": 40
   },
   "kernels_config": {
    "python": {
     "delete_cmd_postfix": "",
     "delete_cmd_prefix": "del ",
     "library": "var_list.py",
     "varRefreshCmd": "print(var_dic_list())"
    },
    "r": {
     "delete_cmd_postfix": ") ",
     "delete_cmd_prefix": "rm(",
     "library": "var_list.r",
     "varRefreshCmd": "cat(var_dic_list()) "
    }
   },
   "types_to_exclude": [
    "module",
    "function",
    "builtin_function_or_method",
    "instance",
    "_Feature"
   ],
   "window_display": false
  }
 },
 "nbformat": 4,
 "nbformat_minor": 2
}
